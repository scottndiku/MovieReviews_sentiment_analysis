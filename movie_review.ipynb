{
 "cells": [
  {
   "cell_type": "markdown",
   "id": "everyday-frame",
   "metadata": {},
   "source": [
    "<h2> Sentiment analysis program for movie reviews using scikit-learn. The program returns if a movie review is positive or negative . </h2>"
   ]
  },
  {
   "cell_type": "markdown",
   "id": "buried-ground",
   "metadata": {},
   "source": [
    "<h4> Importing necessary libraries </h4>"
   ]
  },
  {
   "cell_type": "code",
   "execution_count": 1,
   "id": "charged-blade",
   "metadata": {},
   "outputs": [],
   "source": [
    "import nltk"
   ]
  },
  {
   "cell_type": "code",
   "execution_count": 2,
   "id": "possible-update",
   "metadata": {},
   "outputs": [],
   "source": [
    "from nltk.corpus import movie_reviews as mr"
   ]
  },
  {
   "cell_type": "code",
   "execution_count": 3,
   "id": "reasonable-phone",
   "metadata": {},
   "outputs": [],
   "source": [
    "import pandas as pd"
   ]
  },
  {
   "cell_type": "code",
   "execution_count": 4,
   "id": "false-andorra",
   "metadata": {},
   "outputs": [],
   "source": [
    "from nltk.corpus import stopwords #for stopwords"
   ]
  },
  {
   "cell_type": "code",
   "execution_count": 5,
   "id": "minute-reach",
   "metadata": {},
   "outputs": [],
   "source": [
    "from nltk.stem import PorterStemmer"
   ]
  },
  {
   "cell_type": "code",
   "execution_count": 6,
   "id": "precise-above",
   "metadata": {},
   "outputs": [],
   "source": [
    "from nltk import word_tokenize"
   ]
  },
  {
   "cell_type": "code",
   "execution_count": 7,
   "id": "younger-outline",
   "metadata": {},
   "outputs": [],
   "source": [
    "from sklearn.model_selection import train_test_split"
   ]
  },
  {
   "cell_type": "code",
   "execution_count": 8,
   "id": "coated-liechtenstein",
   "metadata": {},
   "outputs": [],
   "source": [
    "import numpy as np"
   ]
  },
  {
   "cell_type": "code",
   "execution_count": 9,
   "id": "violent-gazette",
   "metadata": {},
   "outputs": [],
   "source": [
    "from sklearn import preprocessing"
   ]
  },
  {
   "cell_type": "code",
   "execution_count": 10,
   "id": "turned-cooking",
   "metadata": {},
   "outputs": [],
   "source": [
    "from sklearn.feature_extraction.text import CountVectorizer"
   ]
  },
  {
   "cell_type": "code",
   "execution_count": 11,
   "id": "selective-salem",
   "metadata": {},
   "outputs": [],
   "source": [
    "from sklearn.svm import LinearSVC"
   ]
  },
  {
   "cell_type": "markdown",
   "id": "korean-selling",
   "metadata": {},
   "source": [
    "<h4> Extract sentiment tags and reviews from NLTK corpus movie review into dataframes which creates labels for each movie. </h4>"
   ]
  },
  {
   "cell_type": "code",
   "execution_count": 12,
   "id": "younger-rotation",
   "metadata": {},
   "outputs": [],
   "source": [
    "reviews = []\n",
    "for ids in mr.fileids():\n",
    "    tag, filename = ids.split('/')\n",
    "    reviews.append((tag, mr.raw(ids)))\n",
    "\n",
    "dataframe = pd.DataFrame(reviews, columns=['tag', 'text'])"
   ]
  },
  {
   "cell_type": "code",
   "execution_count": 13,
   "id": "heated-replica",
   "metadata": {},
   "outputs": [
    {
     "data": {
      "text/html": [
       "<div>\n",
       "<style scoped>\n",
       "    .dataframe tbody tr th:only-of-type {\n",
       "        vertical-align: middle;\n",
       "    }\n",
       "\n",
       "    .dataframe tbody tr th {\n",
       "        vertical-align: top;\n",
       "    }\n",
       "\n",
       "    .dataframe thead th {\n",
       "        text-align: right;\n",
       "    }\n",
       "</style>\n",
       "<table border=\"1\" class=\"dataframe\">\n",
       "  <thead>\n",
       "    <tr style=\"text-align: right;\">\n",
       "      <th></th>\n",
       "      <th>tag</th>\n",
       "      <th>text</th>\n",
       "    </tr>\n",
       "  </thead>\n",
       "  <tbody>\n",
       "    <tr>\n",
       "      <th>0</th>\n",
       "      <td>neg</td>\n",
       "      <td>plot : two teen couples go to a church party ,...</td>\n",
       "    </tr>\n",
       "    <tr>\n",
       "      <th>1</th>\n",
       "      <td>neg</td>\n",
       "      <td>the happy bastard's quick movie review \\ndamn ...</td>\n",
       "    </tr>\n",
       "    <tr>\n",
       "      <th>2</th>\n",
       "      <td>neg</td>\n",
       "      <td>it is movies like these that make a jaded movi...</td>\n",
       "    </tr>\n",
       "    <tr>\n",
       "      <th>3</th>\n",
       "      <td>neg</td>\n",
       "      <td>\" quest for camelot \" is warner bros . ' firs...</td>\n",
       "    </tr>\n",
       "    <tr>\n",
       "      <th>4</th>\n",
       "      <td>neg</td>\n",
       "      <td>synopsis : a mentally unstable man undergoing ...</td>\n",
       "    </tr>\n",
       "  </tbody>\n",
       "</table>\n",
       "</div>"
      ],
      "text/plain": [
       "   tag                                               text\n",
       "0  neg  plot : two teen couples go to a church party ,...\n",
       "1  neg  the happy bastard's quick movie review \\ndamn ...\n",
       "2  neg  it is movies like these that make a jaded movi...\n",
       "3  neg   \" quest for camelot \" is warner bros . ' firs...\n",
       "4  neg  synopsis : a mentally unstable man undergoing ..."
      ]
     },
     "execution_count": 13,
     "metadata": {},
     "output_type": "execute_result"
    }
   ],
   "source": [
    "dataframe.iloc[0:5]"
   ]
  },
  {
   "cell_type": "markdown",
   "id": "oriented-latest",
   "metadata": {},
   "source": [
    "<h4> function to preprocess the data. </h4>"
   ]
  },
  {
   "cell_type": "code",
   "execution_count": 14,
   "id": "excited-sequence",
   "metadata": {},
   "outputs": [],
   "source": [
    "def preprossing(row):\n",
    "    \n",
    "    lowerRow = row.lower()\n",
    "    sentence = []\n",
    "    stopword = stopwords.words(\"english\")\n",
    "    words = word_tokenize(lowerRow)\n",
    "    \n",
    "    stemmer = PorterStemmer()\n",
    "    \n",
    "    \n",
    "    \n",
    "    for token in words:\n",
    "        if (token not in stopword):\n",
    "            stem_word = stemmer.stem(token)\n",
    "            sentence.append(stem_word)\n",
    "            \n",
    "    texts = \" \".join(sentence)    \n",
    "    return texts"
   ]
  },
  {
   "cell_type": "markdown",
   "id": "hollow-outside",
   "metadata": {},
   "source": [
    "<h4> Apply preprossesing to the DataFrame. </h4>"
   ]
  },
  {
   "cell_type": "code",
   "execution_count": 15,
   "id": "beginning-british",
   "metadata": {},
   "outputs": [],
   "source": [
    "dataframe[\"text\"]=dataframe[\"text\"].apply(preprossing)"
   ]
  },
  {
   "cell_type": "code",
   "execution_count": 16,
   "id": "unlike-apparel",
   "metadata": {},
   "outputs": [],
   "source": [
    "sentiment = (dataframe[\"tag\"])"
   ]
  },
  {
   "cell_type": "code",
   "execution_count": 17,
   "id": "acute-hammer",
   "metadata": {},
   "outputs": [],
   "source": [
    "raw_reviews = (dataframe[\"text\"])"
   ]
  },
  {
   "cell_type": "markdown",
   "id": "centered-vector",
   "metadata": {},
   "source": [
    "<h4> Split data into Train and Test dataset. </h4>"
   ]
  },
  {
   "cell_type": "code",
   "execution_count": 18,
   "id": "offensive-buddy",
   "metadata": {},
   "outputs": [],
   "source": [
    "review_train, review_test, labels_train, labels_test = train_test_split(raw_reviews,sentiment,test_size = 0.25,random_state = 0)"
   ]
  },
  {
   "cell_type": "code",
   "execution_count": 19,
   "id": "constant-evolution",
   "metadata": {},
   "outputs": [
    {
     "data": {
      "text/plain": [
       "(1500,)"
      ]
     },
     "execution_count": 19,
     "metadata": {},
     "output_type": "execute_result"
    }
   ],
   "source": [
    "review_train.shape"
   ]
  },
  {
   "cell_type": "code",
   "execution_count": 20,
   "id": "deluxe-zambia",
   "metadata": {},
   "outputs": [
    {
     "data": {
      "text/plain": [
       "(500,)"
      ]
     },
     "execution_count": 20,
     "metadata": {},
     "output_type": "execute_result"
    }
   ],
   "source": [
    "review_test.shape"
   ]
  },
  {
   "cell_type": "code",
   "execution_count": 21,
   "id": "neural-murray",
   "metadata": {},
   "outputs": [
    {
     "data": {
      "text/plain": [
       "(1500,)"
      ]
     },
     "execution_count": 21,
     "metadata": {},
     "output_type": "execute_result"
    }
   ],
   "source": [
    "labels_train.shape"
   ]
  },
  {
   "cell_type": "code",
   "execution_count": 22,
   "id": "transsexual-bracelet",
   "metadata": {},
   "outputs": [
    {
     "data": {
      "text/plain": [
       "(500,)"
      ]
     },
     "execution_count": 22,
     "metadata": {},
     "output_type": "execute_result"
    }
   ],
   "source": [
    "labels_test.shape"
   ]
  },
  {
   "cell_type": "markdown",
   "id": "coupled-underground",
   "metadata": {},
   "source": [
    "<h4> Generate label preprocessing to normalize labels.</h4>"
   ]
  },
  {
   "cell_type": "code",
   "execution_count": 23,
   "id": "greek-census",
   "metadata": {},
   "outputs": [],
   "source": [
    "label_processing = preprocessing.LabelEncoder()"
   ]
  },
  {
   "cell_type": "code",
   "execution_count": 24,
   "id": "color-giving",
   "metadata": {},
   "outputs": [],
   "source": [
    "label_train_enc = label_processing.fit_transform(labels_train)\n",
    "label_test_enc = label_processing.transform(labels_test)"
   ]
  },
  {
   "cell_type": "code",
   "execution_count": 25,
   "id": "given-london",
   "metadata": {},
   "outputs": [
    {
     "data": {
      "text/plain": [
       "(1500,)"
      ]
     },
     "execution_count": 25,
     "metadata": {},
     "output_type": "execute_result"
    }
   ],
   "source": [
    "label_train_enc.shape"
   ]
  },
  {
   "cell_type": "code",
   "execution_count": 26,
   "id": "harmful-clock",
   "metadata": {},
   "outputs": [
    {
     "data": {
      "text/plain": [
       "(500,)"
      ]
     },
     "execution_count": 26,
     "metadata": {},
     "output_type": "execute_result"
    }
   ],
   "source": [
    "label_test_enc.shape"
   ]
  },
  {
   "cell_type": "markdown",
   "id": "sharing-george",
   "metadata": {},
   "source": [
    "<h4> Generate feature vectors for review_train and review_test and normalize them. </h4>"
   ]
  },
  {
   "cell_type": "code",
   "execution_count": 27,
   "id": "blond-transcript",
   "metadata": {},
   "outputs": [],
   "source": [
    "vectorizer = CountVectorizer()"
   ]
  },
  {
   "cell_type": "code",
   "execution_count": 28,
   "id": "periodic-amendment",
   "metadata": {},
   "outputs": [
    {
     "data": {
      "text/plain": [
       "CountVectorizer()"
      ]
     },
     "execution_count": 28,
     "metadata": {},
     "output_type": "execute_result"
    }
   ],
   "source": [
    "vectorizer.fit(review_train)"
   ]
  },
  {
   "cell_type": "code",
   "execution_count": 29,
   "id": "found-subsection",
   "metadata": {},
   "outputs": [],
   "source": [
    "f_matrix_train =vectorizer.transform(review_train)\n",
    "f_matrix_test =vectorizer.transform(review_test)"
   ]
  },
  {
   "cell_type": "code",
   "execution_count": 30,
   "id": "annual-promotion",
   "metadata": {},
   "outputs": [
    {
     "data": {
      "text/plain": [
       "(1500, 24362)"
      ]
     },
     "execution_count": 30,
     "metadata": {},
     "output_type": "execute_result"
    }
   ],
   "source": [
    "f_matrix_train.shape"
   ]
  },
  {
   "cell_type": "code",
   "execution_count": 31,
   "id": "weighted-covering",
   "metadata": {},
   "outputs": [
    {
     "data": {
      "text/plain": [
       "(500, 24362)"
      ]
     },
     "execution_count": 31,
     "metadata": {},
     "output_type": "execute_result"
    }
   ],
   "source": [
    "f_matrix_test.shape"
   ]
  },
  {
   "cell_type": "markdown",
   "id": "material-implementation",
   "metadata": {},
   "source": [
    "<h4> Initialize the support vector classifier and apply it to fit models. </h4>"
   ]
  },
  {
   "cell_type": "code",
   "execution_count": 32,
   "id": "twenty-houston",
   "metadata": {},
   "outputs": [
    {
     "data": {
      "text/plain": [
       "LinearSVC(C=2, max_iter=500)"
      ]
     },
     "execution_count": 32,
     "metadata": {},
     "output_type": "execute_result"
    }
   ],
   "source": [
    "svc_model = LinearSVC(C=2,max_iter=500)\n",
    "svc_model.fit(f_matrix_train,label_train_enc)"
   ]
  },
  {
   "cell_type": "markdown",
   "id": "regular-surprise",
   "metadata": {},
   "source": [
    "<h4> Import file to review and make prediction based on models. </h4>"
   ]
  },
  {
   "cell_type": "code",
   "execution_count": 33,
   "id": "continuous-engine",
   "metadata": {},
   "outputs": [],
   "source": [
    "test_file = open('Test_file.txt','r')\n",
    "test_file = test_file.read()\n",
    "file_preprocess = [preprossing(str(test_file))]\n",
    "file_transform = vectorizer.transform(file_preprocess)\n",
    "\n",
    "predictions = svc_model.predict(file_transform)"
   ]
  },
  {
   "cell_type": "code",
   "execution_count": 34,
   "id": "recreational-aurora",
   "metadata": {},
   "outputs": [],
   "source": [
    "#print(\"Accuracy on Train: \" + str(svc_model.score(f_matrix_train,label_train_enc)))\n",
    "#print(\"Accuracy on Test: \" + str(svc_model.score(f_matrix_test,label_test_enc)))"
   ]
  },
  {
   "cell_type": "markdown",
   "id": "median-frontier",
   "metadata": {},
   "source": [
    "<h4> Display prediction </h4>"
   ]
  },
  {
   "cell_type": "code",
   "execution_count": 35,
   "id": "significant-music",
   "metadata": {},
   "outputs": [
    {
     "name": "stdout",
     "output_type": "stream",
     "text": [
      "Negative\n"
     ]
    }
   ],
   "source": [
    "if predictions[0] == 0:\n",
    "    print (\"Negative\")\n",
    "else:\n",
    "    print (\"Positive\")"
   ]
  }
 ],
 "metadata": {
  "kernelspec": {
   "display_name": "Python 3",
   "language": "python",
   "name": "python3"
  },
  "language_info": {
   "codemirror_mode": {
    "name": "ipython",
    "version": 3
   },
   "file_extension": ".py",
   "mimetype": "text/x-python",
   "name": "python",
   "nbconvert_exporter": "python",
   "pygments_lexer": "ipython3",
   "version": "3.8.5"
  }
 },
 "nbformat": 4,
 "nbformat_minor": 5
}
